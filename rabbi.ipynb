{
 "cells": [
  {
   "cell_type": "code",
   "execution_count": 29,
   "metadata": {},
   "outputs": [],
   "source": [
    "import numpy"
   ]
  },
  {
   "cell_type": "code",
   "execution_count": 30,
   "metadata": {},
   "outputs": [],
   "source": [
    "# pauli matrices\n",
    "def sig(n):\n",
    "    # pauli matrices\n",
    "    # n = 0 is identity, n = 1,2,3 is x,y,z resp.\n",
    "    if n == 0:\n",
    "        a = np.identity(2, dtype = complex)\n",
    "    if n == 1:\n",
    "        a = np.array([[0 , 1],[1 , 0]], dtype = complex)\n",
    "    if n == 2:\n",
    "        a = np.array([[0 , -1j],[1j , 0]], dtype = complex)\n",
    "    if n == 3:\n",
    "        a = np.array([[1 , 0],[0 , -1]], dtype = complex)\n",
    "    return a"
   ]
  },
  {
   "cell_type": "code",
   "execution_count": 31,
   "metadata": {},
   "outputs": [],
   "source": [
    "def ab_to_alphabeta(thet):\n",
    "    \"\"\"\n",
    "    Matrix that transforms (a,b)^T (alpha,beta)^T\n",
    "    \"\"\"\n",
    "    # dtype = complex?\n",
    "    M = np.array([[np.cos(thet/2),np.sin(thet/2)],[np.sin(thet/2),-np.cos(thet/2)]])\n",
    "    return M"
   ]
  },
  {
   "cell_type": "code",
   "execution_count": 32,
   "metadata": {},
   "outputs": [],
   "source": [
    "def theta(w0,w1,w):\n",
    "    \"\"\"\n",
    "    Calculates theta\n",
    "    \"\"\"\n",
    "    weff = np.sqrt((w0-w)**2 + w1**2)\n",
    "    thet = np.arccos((w0-w)/weff)\n",
    "    return thet"
   ]
  },
  {
   "cell_type": "code",
   "execution_count": 48,
   "metadata": {},
   "outputs": [],
   "source": [
    "def params_to_omegas(B0,B,g,q,m,c):\n",
    "    \"\"\"\n",
    "    Calculates omegas from parameters\n",
    "    \"\"\"\n",
    "    w0 = -g*q*B0/(2*m*c)\n",
    "    w1 = -g*q*B/(2*m*c)\n",
    "    return [w0,w1]"
   ]
  },
  {
   "cell_type": "code",
   "execution_count": 49,
   "metadata": {},
   "outputs": [],
   "source": [
    "def psi(t,psi0,w0,w1,w):\n",
    "    \"\"\"\n",
    "    psi(t)\n",
    "    \"\"\"\n",
    "    # theta\n",
    "    thet = theta(w0,w1,w)\n",
    "    weff = np.sqrt((w0-w)**2 + w1**2)\n",
    "    # alpha and beta\n",
    "    alpha_beta = np.dot(ab_to_alphabeta(thet),psi0)\n",
    "    alpha = alpha_beta[0]\n",
    "    beta = alpha_beta[1]\n",
    "    # cos(theta/2) and sin(theta/2)\n",
    "    costo2 = np.cos(thet/2)\n",
    "    sinto2 = np.sin(thet/2)\n",
    "    # top\n",
    "    top = costo2*np.exp(-1j*w/2*t)*np.exp(-1j*weff/2*t)*alpha\n",
    "    top += sinto2*np.exp(-1j*w/2*t)*np.exp(1j*weff/2*t)*beta\n",
    "    # bottom\n",
    "    bot = sinto2*np.exp(1j*w/2*t)*np.exp(-1j*weff/2*t)*alpha\n",
    "    bot += -costo2*np.exp(1j*w/2*t)*np.exp(1j*weff/2*t)*beta\n",
    "    # psi(t)\n",
    "    psi_t = np.array([[top],[bot]],dtype=complex)\n",
    "    \n",
    "    return psi_t"
   ]
  },
  {
   "cell_type": "code",
   "execution_count": 53,
   "metadata": {},
   "outputs": [],
   "source": [
    "def probability_plus_z(psi_t):\n",
    "    \"\"\"\n",
    "    Returns |<+z|psi(t)>|^2\n",
    "    \"\"\"\n",
    "    prob_amp = psi_t[0]\n",
    "    prob = np.abs(prob_amp)**2\n",
    "    return prob"
   ]
  },
  {
   "cell_type": "code",
   "execution_count": 54,
   "metadata": {},
   "outputs": [],
   "source": [
    "def main(t,psi0,B0,B,w,g,q,m,c):\n",
    "    \"\"\"\n",
    "    Main\n",
    "    Returns prob to be in key for given t\n",
    "    \"\"\"\n",
    "    # omegas\n",
    "    [w0,w1] = params_to_omegas(B0,B,g,q,m,c)\n",
    "    \n",
    "    # psi(t)\n",
    "    psi_t = psi(t,psi0,w0,w1,w)\n",
    "    \n",
    "    # prob\n",
    "    prob = probability_plus_z(psi_t)\n",
    "    \n",
    "    return prob"
   ]
  },
  {
   "cell_type": "code",
   "execution_count": 56,
   "metadata": {},
   "outputs": [],
   "source": [
    "import matplotlib.pyplot as plt"
   ]
  },
  {
   "cell_type": "code",
   "execution_count": 67,
   "metadata": {},
   "outputs": [],
   "source": [
    "def plot(psi0,B0,B,w,g,q,m,c):\n",
    "    t = np.linspace(0,2*np.pi,num=100)\n",
    "    prob_t = main(t,psi0,B0,B,w,g,q,m,c)\n",
    "    \n",
    "    fig = plt.figure(figsize=(10,5))\n",
    "    plt.suptitle(\"$|<+z|\\psi(t)>|^2$\")\n",
    "    plt.xlabel(\"$t$\")\n",
    "    plt.ylabel(\"$|<+z|\\psi(t)>|^2$\")\n",
    "    plt.plot(t,prob_t[0])\n",
    "    plt.ylim(0,1.1)\n",
    "    plt.show()\n",
    "    "
   ]
  },
  {
   "cell_type": "code",
   "execution_count": 68,
   "metadata": {},
   "outputs": [
    {
     "data": {
      "image/png": "[encoded data removed]",
      "text/plain": [
       "<Figure size 720x360 with 1 Axes>"
      ]
     },
     "metadata": {
      "needs_background": "light"
     },
     "output_type": "display_data"
    }
   ],
   "source": [
    "plot([[1.],[0.]],1,1,1,1,1,1,1)"
   ]
  },
  {
   "cell_type": "code",
   "execution_count": null,
   "metadata": {},
   "outputs": [],
   "source": []
  }
 ],
 "metadata": {
  "kernelspec": {
   "display_name": "Python 3",
   "language": "python",
   "name": "python3"
  },
  "language_info": {
   "codemirror_mode": {
    "name": "ipython",
    "version": 3
   },
   "file_extension": ".py",
   "mimetype": "text/x-python",
   "name": "python",
   "nbconvert_exporter": "python",
   "pygments_lexer": "ipython3",
   "version": "3.6.10"
  },
  "toc": {
   "base_numbering": 1,
   "nav_menu": {},
   "number_sections": true,
   "sideBar": true,
   "skip_h1_title": false,
   "title_cell": "Table of Contents",
   "title_sidebar": "Contents",
   "toc_cell": false,
   "toc_position": {},
   "toc_section_display": true,
   "toc_window_display": false
  },
  "varInspector": {
   "cols": {
    "lenName": 16,
    "lenType": 16,
    "lenVar": 40
   },
   "kernels_config": {
    "python": {
     "delete_cmd_postfix": "",
     "delete_cmd_prefix": "del ",
     "library": "var_list.py",
     "varRefreshCmd": "print(var_dic_list())"
    },
    "r": {
     "delete_cmd_postfix": ") ",
     "delete_cmd_prefix": "rm(",
     "library": "var_list.r",
     "varRefreshCmd": "cat(var_dic_list()) "
    }
   },
   "types_to_exclude": [
    "module",
    "function",
    "builtin_function_or_method",
    "instance",
    "_Feature"
   ],
   "window_display": false
  }
 },
 "nbformat": 4,
 "nbformat_minor": 4
}
